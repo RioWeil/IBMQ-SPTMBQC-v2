{
 "cells": [
  {
   "cell_type": "code",
   "execution_count": 41,
   "metadata": {},
   "outputs": [],
   "source": [
    "from qiskit import *\n",
    "from qiskit_ibm_provider import IBMProvider\n",
    "from datetime import datetime\n",
    "import json"
   ]
  },
  {
   "cell_type": "code",
   "execution_count": 59,
   "metadata": {},
   "outputs": [],
   "source": [
    "provider = IBMProvider()\n",
    "backend = provider.get_backend(\"ibm_quebec\")"
   ]
  },
  {
   "cell_type": "code",
   "execution_count": 60,
   "metadata": {},
   "outputs": [],
   "source": [
    "t = datetime(year=2024, month=6, day=9, hour=15, minute=40)\n",
    "properties = backend.properties(datetime=t)  # Obtain IBMQ backend calibration data at given time\n",
    "prop_dict = properties.to_dict()"
   ]
  },
  {
   "cell_type": "code",
   "execution_count": 55,
   "metadata": {},
   "outputs": [],
   "source": [
    "with open(\"calibrations/CI_IBM_calibrations_4.json\", \"w\") as fp:\n",
    "    json.dump(prop_dict, fp, indent=2, default=str)  # Save calibration as JSON"
   ]
  }
 ],
 "metadata": {
  "kernelspec": {
   "display_name": "Qiskit311",
   "language": "python",
   "name": "python3"
  },
  "language_info": {
   "codemirror_mode": {
    "name": "ipython",
    "version": 3
   },
   "file_extension": ".py",
   "mimetype": "text/x-python",
   "name": "python",
   "nbconvert_exporter": "python",
   "pygments_lexer": "ipython3",
   "version": "3.11.8"
  }
 },
 "nbformat": 4,
 "nbformat_minor": 2
}
