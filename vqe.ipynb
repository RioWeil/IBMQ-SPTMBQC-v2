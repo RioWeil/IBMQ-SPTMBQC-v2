{
 "cells": [
  {
   "cell_type": "markdown",
   "id": "79cfe002-513e-4c63-b05c-0685e422b85a",
   "metadata": {},
   "source": [
    "# Imports + Setup"
   ]
  },
  {
   "cell_type": "code",
   "execution_count": 1,
   "id": "d537b247-5457-4738-ae7a-69e711c15a14",
   "metadata": {},
   "outputs": [],
   "source": [
    "import numpy as np\n",
    "import matplotlib.pyplot as plt\n",
    "import json\n",
    "\n",
    "from qiskit import *\n",
    "from qiskit_ibm_provider import IBMProvider\n",
    "import mthree\n",
    "from qiskit_ibm_runtime import QiskitRuntimeService, Session, SamplerV1, Options"
   ]
  },
  {
   "cell_type": "code",
   "execution_count": 2,
   "id": "00000091-c371-486a-8cac-af509c6c1de3",
   "metadata": {},
   "outputs": [],
   "source": [
    "token = '' # Put in your IBM token\n",
    "QiskitRuntimeService.save_account(channel=\"ibm_quantum\", token=token, overwrite= True)"
   ]
  },
  {
   "cell_type": "markdown",
   "id": "1f328447-93e6-4685-9078-1b4e9d72ecbd",
   "metadata": {},
   "source": [
    "# Functions to Write the VQE circuits"
   ]
  },
  {
   "cell_type": "code",
   "execution_count": 3,
   "id": "23ee8c20-422c-4e26-84d4-570156c166f2",
   "metadata": {},
   "outputs": [],
   "source": [
    "def apply_Utheta(qc, qubit, theta):\n",
    "    \"\"\"\n",
    "    Applies U(theta) = cos(theta)|0><0| + sin(theta)|0><1| - sin(theta)|1><0| + cos(theta)|1><1| to specified qubit in quantum circuit\n",
    "    Inputs: qc - quantum circuit\n",
    "            qubit - qubit in quantum circuit to apply U(theta) to\n",
    "            theta - variational parameter\n",
    "    Outputs: None\n",
    "    \"\"\"\n",
    "    U = np.array([[np.cos(theta), np.sin(theta)], [-np.sin(theta), np.cos(theta)]])\n",
    "    gate_label = \"Utheta\"\n",
    "    qc.unitary(U, [qubit], label = gate_label)"
   ]
  },
  {
   "cell_type": "code",
   "execution_count": 4,
   "id": "80bae8ed",
   "metadata": {},
   "outputs": [],
   "source": [
    "def twirled_cz(qc, qubit1, qubit2, repeats=1):\n",
    "    \"\"\"\n",
    "    twirl is an integer in {0, 1, ... 15}, representing one of possible 16 Pauli twirls of {I, X, Y, Z}^{otimes 2} in 4-ary.\n",
    "    repeats is some (odd) number for which the CZ is repeated (1 by default)\n",
    "    \"\"\"\n",
    "    for _ in range(repeats):\n",
    "        twirl = np.random.randint(16)\n",
    "        match twirl:\n",
    "            case 0: # II\n",
    "                qc.cz(qubit1, qubit2)\n",
    "\n",
    "            case 1:\n",
    "                qc.x(qubit2)\n",
    "                qc.cz(qubit1, qubit2)\n",
    "                qc.z(qubit1)\n",
    "                qc.x(qubit2)\n",
    "            \n",
    "            case 2:\n",
    "                qc.z(qubit2)\n",
    "                qc.cz(qubit1, qubit2)\n",
    "                qc.z(qubit2)\n",
    "\n",
    "            case 3:\n",
    "                qc.y(qubit2)\n",
    "                qc.cz(qubit1, qubit2)\n",
    "                qc.z(qubit1)\n",
    "                qc.y(qubit2)\n",
    "\n",
    "            case 4:\n",
    "                qc.x(qubit1)\n",
    "                qc.cz(qubit1, qubit2)\n",
    "                qc.x(qubit1)\n",
    "                qc.z(qubit2)\n",
    "\n",
    "            case 5:\n",
    "                qc.x(qubit1)\n",
    "                qc.x(qubit2)\n",
    "                qc.cz(qubit1, qubit2)\n",
    "                qc.y(qubit1)\n",
    "                qc.y(qubit2)\n",
    "\n",
    "            case 6:\n",
    "                qc.x(qubit1)\n",
    "                qc.z(qubit2)\n",
    "                qc.cz(qubit1, qubit2)\n",
    "                qc.x(qubit1)\n",
    "\n",
    "            case 7:\n",
    "                qc.x(qubit1)\n",
    "                qc.y(qubit2)\n",
    "                qc.cz(qubit1, qubit2)\n",
    "                qc.y(qubit1)\n",
    "                qc.x(qubit2)\n",
    "\n",
    "            case 8:\n",
    "                qc.z(qubit1)\n",
    "                qc.cz(qubit1, qubit2)\n",
    "                qc.z(qubit1)\n",
    "\n",
    "            case 9:\n",
    "                qc.z(qubit1)\n",
    "                qc.x(qubit2)\n",
    "                qc.cz(qubit1, qubit2)\n",
    "                qc.x(qubit2)\n",
    "\n",
    "            case 10:\n",
    "                qc.z(qubit1)\n",
    "                qc.z(qubit2)\n",
    "                qc.cz(qubit1, qubit2)\n",
    "                qc.z(qubit1)\n",
    "                qc.z(qubit2)\n",
    "\n",
    "            case 11:\n",
    "                qc.z(qubit1)\n",
    "                qc.y(qubit2)\n",
    "                qc.cz(qubit1, qubit2)\n",
    "                qc.y(qubit2)\n",
    "\n",
    "            case 12:\n",
    "                qc.y(qubit1)\n",
    "                qc.cz(qubit1, qubit2)\n",
    "                qc.y(qubit1)\n",
    "                qc.z(qubit2)\n",
    "\n",
    "            case 13:\n",
    "                qc.y(qubit1)\n",
    "                qc.x(qubit2)\n",
    "                qc.cz(qubit1, qubit2)\n",
    "                qc.x(qubit1)\n",
    "                qc.y(qubit2)\n",
    "\n",
    "            case 14:\n",
    "                qc.y(qubit1)\n",
    "                qc.z(qubit2)\n",
    "                qc.cz(qubit1, qubit2)\n",
    "                qc.y(qubit1)\n",
    "\n",
    "            case 15:\n",
    "                qc.y(qubit1)\n",
    "                qc.y(qubit2)\n",
    "                qc.cz(qubit1, qubit2)\n",
    "                qc.x(qubit1)\n",
    "                qc.x(qubit2)"
   ]
  },
  {
   "cell_type": "code",
   "execution_count": 5,
   "id": "1d80f2b0",
   "metadata": {},
   "outputs": [],
   "source": [
    "def generate_onequbit_circuit(theta, s):\n",
    "    \"\"\"\n",
    "    Generates the VQE circuit |0>-[H^s]-[U]-||Z for <Xi> and <Ki> measurements.\n",
    "    Inputs: theta - variational parameter\n",
    "            s - whether H is applied (so input is |+>) or not (so input is |0>)\n",
    "    Outputs: The 1-qubit VQE circuit\n",
    "    \"\"\"\n",
    "    # Initializes circuit\n",
    "    qr = QuantumRegister(1)\n",
    "    qc = QuantumCircuit(qr)\n",
    "\n",
    "    # Apply Z^s\n",
    "    if s == 1:\n",
    "        qc.h(0)\n",
    "\n",
    "    # Apply U(theta) to qubit\n",
    "    apply_Utheta(qc, 0, theta)\n",
    "\n",
    "    # Measure in comp. basis\n",
    "    qc.measure_all()\n",
    "\n",
    "    return qc\n",
    "\n",
    "def generate_twoqubit_circuit(theta, s, sprime):\n",
    "    \"\"\"\n",
    "    Generates the two-qubit VQE circuit for measurement of <Ki>\n",
    "    Inputs: theta - variational parameter\n",
    "            s - coin flip for putting Z on the first qubit\n",
    "            sprime - first circuit outcome dependent Z on the second qubit\n",
    "    \"\"\"    \n",
    "    qr = QuantumRegister(2)\n",
    "    qc = QuantumCircuit(qr)\n",
    "\n",
    "    # Make cluster chain\n",
    "    qc.h(qr)\n",
    "    qc.twirled_cz(qc, 0, 1)\n",
    "\n",
    "    if s == 1:\n",
    "        qc.z(0)\n",
    "    if sprime == 1:\n",
    "        qc.z(1)\n",
    "\n",
    "    qc.h(0)\n",
    "    apply_Utheta(qc, 0, theta)\n",
    "    apply_Utheta(qc, 1, theta)\n",
    "    \n",
    "    qc.measure_all()\n",
    "    \n",
    "    return qc\n",
    "\n",
    "def generate_allonecirc(theta):\n",
    "    \"\"\"\n",
    "    Generates all circuits necessary for one point of the VQE protocol and on one circuit\n",
    "    \"\"\"\n",
    "    qr = QuantumRegister(11)\n",
    "    qc = QuantumCircuit(qr)\n",
    "\n",
    "    # Circuit 1 for <X>\n",
    "    qc.h(0)\n",
    "    apply_Utheta(qc, 0, theta)\n",
    "\n",
    "    # Circuit 2 for <K>_boundary:\n",
    "    apply_Utheta(qc, 1, theta)\n",
    "\n",
    "    # Circuit 3 (1 qubit) for <K>_bulk:\n",
    "    qc.h(2)\n",
    "    apply_Utheta(qc, 2, theta)\n",
    "\n",
    "    # Circuits 4-7 for (2 qubit) for <K>_bulk:\n",
    "    qc.h([3, 4, 5, 6, 7, 8, 9, 10])\n",
    "    twirled_cz(qc, 3, 4)\n",
    "    twirled_cz(qc, 5, 6)\n",
    "    twirled_cz(qc, 7, 8)\n",
    "    twirled_cz(qc, 9, 10)\n",
    "    qc.z([5, 8, 9, 10])\n",
    "    qc.h([4, 6, 8, 10])\n",
    "    apply_Utheta(qc, 3, theta)\n",
    "    apply_Utheta(qc, 4, theta)\n",
    "    apply_Utheta(qc, 5, theta)\n",
    "    apply_Utheta(qc, 6, theta)\n",
    "    apply_Utheta(qc, 7, theta)\n",
    "    apply_Utheta(qc, 8, theta)\n",
    "    apply_Utheta(qc, 9, theta)\n",
    "    apply_Utheta(qc, 10, theta)\n",
    "\n",
    "    qc.measure_all()\n",
    "    return qc"
   ]
  },
  {
   "cell_type": "code",
   "execution_count": 6,
   "id": "3b6d6c1b",
   "metadata": {},
   "outputs": [],
   "source": [
    "def generate_circuits(theta_list):\n",
    "    \"\"\"\n",
    "    Generates n circuits (one for each VQE parameter)\n",
    "    Inputs: theta_list - array of VQE parameters there\n",
    "    Outputs: List of len(theta_list) circuits\n",
    "    \"\"\" \n",
    "    qc_list = []\n",
    "    for theta in theta_list:\n",
    "        qc_list.append(generate_allonecirc(theta))\n",
    "    return qc_list\n"
   ]
  },
  {
   "cell_type": "code",
   "execution_count": 7,
   "id": "7ef4aa0c",
   "metadata": {},
   "outputs": [],
   "source": [
    "def mitigate_counts(mit, raw_counts, shots_num, best_qubits):\n",
    "    mitigated_quasi_probs = mit.apply_correction(raw_counts, best_qubits)\n",
    "    # mitigated_stddev = mitigated_quasi_probs._stddev_upper_bound\n",
    "    mitigated_probs = (mitigated_quasi_probs.nearest_probability_distribution())\n",
    "    mitigated_counts = {label: prob * shots_num for label, prob in mitigated_probs.items()}\n",
    "    return mitigated_counts"
   ]
  },
  {
   "cell_type": "markdown",
   "id": "c9012e14",
   "metadata": {},
   "source": [
    "# Running the VQE Circuits"
   ]
  },
  {
   "cell_type": "markdown",
   "id": "006e6537",
   "metadata": {},
   "source": [
    "The older way (when this data was taken) of submitting jobs was to submit each job individually, using the following script (first defining a backend, then sending each circuit to be run):"
   ]
  },
  {
   "cell_type": "code",
   "execution_count": 8,
   "id": "3060b55b",
   "metadata": {},
   "outputs": [],
   "source": [
    "# These were the parameters used to run the circuits in the displayed data\n",
    "theta_ar = np.linspace(0, np.pi/4, 250)\n",
    "shots_num = 5000\n",
    "best_qubits = [2, 64, 105, 12, 13, 27, 28, 40, 41, 116, 117]  # Pick less noisy qubits"
   ]
  },
  {
   "cell_type": "code",
   "execution_count": 9,
   "id": "e703374c",
   "metadata": {},
   "outputs": [
    {
     "data": {
      "text/plain": [
       "[<IBMBackend('ibm_quebec')>,\n",
       " <IBMBackend('ibm_brisbane')>,\n",
       " <IBMBackend('ibm_kyoto')>,\n",
       " <IBMBackend('ibm_osaka')>,\n",
       " <IBMBackend('ibm_sherbrooke')>]"
      ]
     },
     "execution_count": 9,
     "metadata": {},
     "output_type": "execute_result"
    }
   ],
   "source": [
    "provider = IBMProvider()\n",
    "provider.backends()"
   ]
  },
  {
   "cell_type": "code",
   "execution_count": 19,
   "id": "44c974c0",
   "metadata": {},
   "outputs": [],
   "source": [
    "backend = provider.get_backend(\"ibm_quebec\")"
   ]
  },
  {
   "cell_type": "code",
   "execution_count": 41,
   "id": "e36f035c",
   "metadata": {},
   "outputs": [],
   "source": [
    "def run_circuits(qc_list, backend, best_qubits, shots_num):\n",
    "    \"\"\"\n",
    "    Runs quantum circuit(s)\n",
    "    Inputs: qc_list - List of QuantumCircuit Objects\n",
    "           backend - Which backend (simulator or device) to use\n",
    "           best_qubits - which qubits to use on the backend\n",
    "           shots_num - how many shots per experiment\n",
    "    Outputs: List containing 4 dictionaries corresponding to counts/experimental results from supplied experiments.\n",
    "    \"\"\"\n",
    "    qc_trans = transpile(qc_list, backend=backend, initial_layout=best_qubits)\n",
    "    job_exp = backend.run(qc_trans, shots=shots_num)\n",
    "    print('All jobs have finished.')\n",
    "    results = job_exp.result()\n",
    "    counts_list = []\n",
    "    for i in range(len(qc_list)):\n",
    "        counts_list.append(results.get_counts(i))\n",
    "    return counts_list"
   ]
  },
  {
   "cell_type": "markdown",
   "id": "c2ccd44a",
   "metadata": {},
   "source": [
    "The more up-to-date way (that is better at getting jobs ahead of the queue) is to submit things as a session:"
   ]
  },
  {
   "cell_type": "code",
   "execution_count": null,
   "id": "be4e146d",
   "metadata": {},
   "outputs": [],
   "source": [
    "service = QiskitRuntimeService()\n",
    "backend = service.backend(\"ibm_quebec\")"
   ]
  },
  {
   "cell_type": "code",
   "execution_count": null,
   "id": "ed429013",
   "metadata": {},
   "outputs": [],
   "source": [
    "with Session(service=service, backend=backend) as session:\n",
    "    options = Options()\n",
    "    options.resilience_level = 1  # Set level of error mitigation\n",
    "    options.optimization_level = 0  # Set optimization level\n",
    "    sampler = SamplerV1(session=session, options=options)  # Note that SamplerV1 is soon deprecated\n",
    "    print(session.details())\n",
    "    print(session.status())\n",
    "\n",
    "    qc_list = transpile(generate_circuits(theta_list), backend=backend, initial_layout=best_qubits)\n",
    "    job_exp = sampler.run(qc_list, shots=shots_num)\n",
    "    print(session.status())\n",
    "\n",
    "    # Add more jobs to the session if desired"
   ]
  },
  {
   "cell_type": "markdown",
   "id": "53bc35ec",
   "metadata": {},
   "source": [
    "# Post-Processing Data"
   ]
  },
  {
   "cell_type": "code",
   "execution_count": 20,
   "id": "302aa4e5",
   "metadata": {},
   "outputs": [],
   "source": [
    "# Note: Previously, one would run a set of mitigation circuits separately from the sampling circuits, and use the obtained mitigation matrices to mitigate the readout errors on the data. Now, the Sampler functions in Qiskit already include this readout mitigation functionality, so this extra step is no longer necessary. The VQE data was taken on an older version of Qiskit and so the post-processing of the data involves some extra steps. If re-running this experiment, it is recommended to use the new Sampler objects in Qiskit which handle the measurement error mitigation automatically."
   ]
  },
  {
   "cell_type": "code",
   "execution_count": 4,
   "id": "670563f6",
   "metadata": {},
   "outputs": [],
   "source": [
    "# These were the parameters used to run the circuits in the displayed data\n",
    "theta_ar = np.linspace(0, np.pi/4, 250)\n",
    "shots_num = 5000\n",
    "best_qubits = [2, 64, 105, 12, 13, 27, 28, 40, 41, 116, 117]"
   ]
  },
  {
   "cell_type": "code",
   "execution_count": 22,
   "id": "13a5cbb1",
   "metadata": {},
   "outputs": [],
   "source": [
    "mit = mthree.M3Mitigation(backend)\n",
    "# mit.cals_from_system(best_qubits) # if mitigating current state of the device\n",
    "mit.cals_from_file('calibrations/VQE_cals_0326.json')"
   ]
  },
  {
   "cell_type": "code",
   "execution_count": 23,
   "id": "47d507ba",
   "metadata": {},
   "outputs": [],
   "source": [
    "# 8 json files (i.e. 8 runs of the same experiment), each corresponding to a 250 VQE datapoints, of 5k shots each\n",
    "job_names = [\"cr1xfmyk5z70008951qg\", \"cr1xm9s8gdp0008g3qj0\", \"cr1xs4mk5z7000895520\", \"cr1xwn2dvs8g008jdt0g\", \"cr1y0yvk5z70008957y0\", \"cr1y6ehdvs8g008jdvz0\", \"cr1y9d5s9z7g008dyjjg\", \"cr1ycr3s9z7g008dyk80\"]"
   ]
  },
  {
   "cell_type": "code",
   "execution_count": 24,
   "id": "c0698d09",
   "metadata": {},
   "outputs": [],
   "source": [
    "def process_results_decomposed(counts_list):\n",
    "    X_list = []\n",
    "    Kboundary_list = []\n",
    "    Kbulk_list = []\n",
    "\n",
    "    i = 0\n",
    "    for counts in counts_list:\n",
    "        i += 1\n",
    "        states = counts.keys()\n",
    "\n",
    "        X_plus = 0\n",
    "        X_minus = 0\n",
    "        Kboundary_plus = 0\n",
    "        Kboundary_minus = 0\n",
    "        Kbulk_plus = 0\n",
    "        Kbulk_minus = 0\n",
    "\n",
    "        for state in states:\n",
    "            count = counts.get(state)\n",
    "\n",
    "            # Calculate <X>:\n",
    "            s1 = int(state[-1])\n",
    "            if s1 == 0:\n",
    "                X_plus += count\n",
    "            else:\n",
    "                X_minus += count\n",
    "\n",
    "            # Calculate <K>_boundary:\n",
    "            s2 = int(state[-2])\n",
    "            if s2 == 0:\n",
    "                Kboundary_plus += count\n",
    "            else:\n",
    "                Kboundary_minus += count\n",
    "\n",
    "            # Calculate <K>_bulk:\n",
    "            s3 = int(state[-3])\n",
    "            count == count / 2 # For the 50/50 \"coin flip\"\n",
    "            if s3 == 0:\n",
    "                s = int(state[-4])\n",
    "                sprime = int(state[-5])\n",
    "                if (s3 + s + sprime) % 2 == 0:\n",
    "                    Kbulk_plus += count\n",
    "                else:\n",
    "                    Kbulk_minus += count\n",
    "                s = int(state[-6])\n",
    "                sprime = int(state[-7])\n",
    "                if (s3 + s + sprime) % 2 == 0:\n",
    "                    Kbulk_plus += count\n",
    "                else:\n",
    "                    Kbulk_minus += count\n",
    "            else:\n",
    "                s = int(state[-8])\n",
    "                sprime = int(state[-9])\n",
    "                if (s3 + s + sprime) % 2 == 0:\n",
    "                    Kbulk_plus += count\n",
    "                else:\n",
    "                    Kbulk_minus += count\n",
    "                s = int(state[-10])\n",
    "                sprime = int(state[-11])\n",
    "                if (s3 + s + sprime) % 2 == 0:\n",
    "                    Kbulk_plus += count\n",
    "                else:\n",
    "                    Kbulk_minus += count\n",
    "\n",
    "        \n",
    "        Xcount = X_plus + X_minus\n",
    "        Xavg = (X_plus - X_minus)/Xcount\n",
    "        X_list.append(Xavg)\n",
    "\n",
    "        Kcount = Kboundary_plus + Kboundary_minus\n",
    "        Kboundaryavg = (Kboundary_plus - Kboundary_minus)/Kcount\n",
    "        Kboundary_list.append(Kboundaryavg)\n",
    "\n",
    "        Kcount = Kbulk_plus + Kbulk_minus\n",
    "        Kbulkavg = (Kbulk_plus - Kbulk_minus)/Kcount\n",
    "        Kbulk_list.append(Kbulkavg)\n",
    "\n",
    "    return np.array(X_list), np.array(Kboundary_list), np.array(Kbulk_list)"
   ]
  },
  {
   "cell_type": "code",
   "execution_count": 25,
   "id": "00316d75",
   "metadata": {},
   "outputs": [],
   "source": [
    "def hex_conversion(hex_string):\n",
    "    # Convert a hex string to a binary string (with 11 digits)\n",
    "    bin_string = bin(int(hex_string, 0))[2:]\n",
    "    length = len(bin_string)\n",
    "    if length == 11:\n",
    "        return bin_string\n",
    "    else:\n",
    "        zero_str = \"0\"\n",
    "        return zero_str * (11 - length) + bin_string\n",
    "\n",
    "def dict_hex_conversion(dict):\n",
    "    # Convert a dictionary with hexadecimal keys into ones with binary keys\n",
    "    hex_converted_dict = {}\n",
    "    for key, val in dict.items():\n",
    "        hex_converted_dict[hex_conversion(key)] = val\n",
    "    return hex_converted_dict\n",
    "\n",
    "def mitigate_counts_single(mit, raw_counts, shots_num, best_qubits, hex=False):\n",
    "    # Use readout mitigation matrices to mitigate the raw results of an experiment.\n",
    "    if hex:\n",
    "        hex_converted_counts = dict_hex_conversion(raw_counts)\n",
    "        mitigated_quasi_probs = mit.apply_correction(hex_converted_counts, best_qubits)\n",
    "    else:\n",
    "        mitigated_quasi_probs = mit.apply_correction(raw_counts, best_qubits)\n",
    "    # mitigated_stddev = mitigated_quasi_probs._stddev_upper_bound\n",
    "    mitigated_probs = (mitigated_quasi_probs.nearest_probability_distribution())\n",
    "    mitigated_counts = {label: prob * shots_num for label, prob in mitigated_probs.items()}\n",
    "    return mitigated_counts"
   ]
  },
  {
   "cell_type": "code",
   "execution_count": 26,
   "id": "b270e6b3",
   "metadata": {},
   "outputs": [],
   "source": [
    "# Extract result dictionaries from files\n",
    "\n",
    "results_list_across_repeats = []\n",
    "for job_name in job_names:\n",
    "    file = \"raw_data/VQE_\" + job_name + \".json\"\n",
    "    f = open(file)\n",
    "    job_f = json.load(f)\n",
    "    results_list_across_repeats.append(job_f.get(\"results\"))\n",
    "    f.close()"
   ]
  },
  {
   "cell_type": "code",
   "execution_count": 27,
   "id": "0c34602b",
   "metadata": {},
   "outputs": [],
   "source": [
    "# Extract count dictionaries from files, and mitigate readout mitigation errors\n",
    "\n",
    "counts_list_across_repeats = []\n",
    "for result in results_list_across_repeats:\n",
    "    counts_list = []\n",
    "    for i in range(len(theta_ar)):\n",
    "        counts_list.append(mitigate_counts_single(mit, result[i].get(\"data\").get(\"counts\"), shots_num, best_qubits, hex=True))\n",
    "    counts_list_across_repeats.append(counts_list)"
   ]
  },
  {
   "cell_type": "code",
   "execution_count": 28,
   "id": "6db48890",
   "metadata": {},
   "outputs": [],
   "source": [
    "# Compute <X>, <K>boundary, <K>bulk\n",
    "\n",
    "X_ars = []\n",
    "K_boundary_ars = []\n",
    "K_bulk_ars = []\n",
    "for counts_list in counts_list_across_repeats:\n",
    "    X_ar, K_boundary_ar, K_bulk_ar = process_results_decomposed(counts_list)\n",
    "    X_ars.append(X_ar)\n",
    "    K_boundary_ars.append(K_boundary_ar)\n",
    "    K_bulk_ars.append(K_bulk_ar)"
   ]
  },
  {
   "cell_type": "code",
   "execution_count": 29,
   "id": "953b0abe",
   "metadata": {},
   "outputs": [],
   "source": [
    "# Compute means and standard error of means for <X>, <K>boundary, <K>bulk across trials\n",
    "\n",
    "X_ar_mean = []\n",
    "X_ar_std = []\n",
    "K_boundary_ar_mean = []\n",
    "K_boundary_ar_std = []\n",
    "K_bulk_ar_mean = []\n",
    "K_bulk_ar_std = []\n",
    "\n",
    "for t in range(len(theta_ar)):\n",
    "    X_ar = []\n",
    "    K_boundary_ar = []\n",
    "    K_bulk_ar = []\n",
    "    for i in range(len(X_ars)):\n",
    "        X_ar.append(X_ars[i][t])\n",
    "        K_boundary_ar.append(K_boundary_ars[i][t])\n",
    "        K_bulk_ar.append(K_bulk_ars[i][t])\n",
    "    X_ar = np.array(X_ar)\n",
    "    K_boundary_ar = np.array(K_boundary_ar)\n",
    "    K_bulk_ar = np.array(K_bulk_ar)\n",
    "\n",
    "    X_ar_mean.append(np.mean(X_ar))\n",
    "    X_ar_std.append(np.std(X_ar)/np.sqrt(len(X_ar)))\n",
    "    K_boundary_ar_mean.append(np.mean(K_boundary_ar))\n",
    "    K_boundary_ar_std.append(np.std(K_boundary_ar)/np.sqrt(len(K_boundary_ar)))\n",
    "    K_bulk_ar_mean.append(np.mean(K_bulk_ar))\n",
    "    K_bulk_ar_std.append(np.std(K_bulk_ar)/np.sqrt(len(K_bulk_ar)))\n",
    "\n",
    "X_ar_mean = np.array(X_ar_mean)\n",
    "X_ar_std = np.array(X_ar_std)\n",
    "K_boundary_ar_mean = np.array(K_boundary_ar_mean)\n",
    "K_boundary_ar_std = np.array(K_boundary_ar_std)\n",
    "K_bulk_ar_mean = np.array(K_bulk_ar_mean)\n",
    "K_bulk_ar_std = np.array(K_bulk_ar_std)"
   ]
  },
  {
   "cell_type": "code",
   "execution_count": null,
   "id": "0b46ee5a",
   "metadata": {},
   "outputs": [],
   "source": [
    "np.savez('processed_data/VQE_processed_X.npz', theta_ar=theta_ar, X_ar_mean=X_ar_mean, X_ar_std=X_ar_std)\n",
    "np.savez('processed_data/VQE_processed_K_boundary.npz', theta_ar=theta_ar, K_boundary_ar_mean=K_boundary_ar_mean, K_boundary_ar_std=K_boundary_ar_std)\n",
    "np.savez('processed_data/VQE_processed_K_bulk.npz', theta_ar=theta_ar, K_bulk_ar_mean=K_bulk_ar_mean, K_bulk_ar_std=K_bulk_ar_std)"
   ]
  },
  {
   "cell_type": "markdown",
   "id": "f0d35105-3e5d-4a8b-bac5-773a74e39925",
   "metadata": {},
   "source": [
    "# Plotting Results and Extracting Optimal VQE Parameters, SOP measurement"
   ]
  },
  {
   "cell_type": "code",
   "execution_count": 2,
   "id": "76c25217",
   "metadata": {},
   "outputs": [],
   "source": [
    "data = np.load(\"processed_data/VQE_processed_X.npz\")\n",
    "X_ar_mean = data[\"X_ar_mean\"]\n",
    "X_ar_std = data[\"X_ar_std\"]\n",
    "data = np.load(\"processed_data/VQE_processed_K_boundary.npz\")\n",
    "K_boundary_ar_mean = data[\"K_boundary_ar_mean\"]\n",
    "K_boundary_ar_std = data[\"K_boundary_ar_std\"]\n",
    "data = np.load(\"processed_data/VQE_processed_K_bulk.npz\")\n",
    "K_bulk_ar_mean = data[\"K_bulk_ar_mean\"]\n",
    "K_bulk_ar_std = data[\"K_bulk_ar_std\"]\n",
    "theta_ar = data[\"theta_ar\"]"
   ]
  },
  {
   "cell_type": "code",
   "execution_count": 3,
   "id": "82d9f8c3-1349-43fc-ab1a-8dbdda5f823e",
   "metadata": {},
   "outputs": [],
   "source": [
    "# Analytically calculated expectation values for the VQE ansatz state\n",
    "\n",
    "theta_ar_smooth = np.linspace(0, np.pi/4, 2000)\n",
    "\n",
    "def X(theta):\n",
    "    return 2 * np.sin(theta) * np.cos(theta)\n",
    "\n",
    "def Kbound(theta):\n",
    "    return np.cos(theta)**2 - np.sin(theta)**2\n",
    "\n",
    "def Kbulk(theta):\n",
    "    return (np.cos(theta)**2 - np.sin(theta)**2)**2"
   ]
  },
  {
   "cell_type": "code",
   "execution_count": 5,
   "id": "a2530b3e",
   "metadata": {},
   "outputs": [
    {
     "data": {
      "image/png": "[encoded data removed]",
      "text/plain": [
       "<Figure size 640x480 with 1 Axes>"
      ]
     },
     "metadata": {},
     "output_type": "display_data"
    }
   ],
   "source": [
    "plt.plot(theta_ar_smooth, X(theta_ar_smooth), \"b-\", label=r\"$\\langle X_i \\rangle_\\theta$\")\n",
    "plt.errorbar(theta_ar, X_ar_mean, yerr=X_ar_std, fmt='.', color='b', markersize=2)\n",
    "plt.plot(theta_ar_smooth, Kbound(theta_ar_smooth), \"r-\", label=r\"$\\langle K_i \\rangle_\\theta$ (boundary)\")\n",
    "plt.errorbar(theta_ar, K_boundary_ar_mean, yerr= K_boundary_ar_std, fmt='.', color='r', markersize=2)\n",
    "plt.plot(theta_ar_smooth, Kbulk(theta_ar_smooth), \"g-\", label=r\"$\\langle K_i \\rangle_\\theta$ (bulk)\")\n",
    "plt.errorbar(theta_ar, K_bulk_ar_mean, yerr=K_bulk_ar_std,  fmt='.', color='g', markersize=2)\n",
    "plt.plot([], [], \"k-\", label=\"Theory\")\n",
    "plt.errorbar([], [], yerr=[], fmt=\"k.\", label=\"Experiment\")\n",
    "plt.title(\"Expectation Values for VQE Ansatz Observables\", size=12)\n",
    "plt.ylabel(\"Expectation Value\", size=11)\n",
    "plt.xlabel(r\"Variational parameter $\\theta$\", size=11)\n",
    "plt.legend(loc=6, fontsize=10)\n",
    "plt.savefig(\"figures/VQE_expectations.pdf\")"
   ]
  },
  {
   "cell_type": "code",
   "execution_count": 5,
   "id": "b7f03656",
   "metadata": {},
   "outputs": [],
   "source": [
    "def E(alpha, N, X_ar_mean, K_boundary_ar_mean, K_bulk_ar_mean):\n",
    "    \"\"\"\n",
    "    Give the energy expectation as a function of alpha (intepolation parameter), N (length of chain)\n",
    "    \"\"\"\n",
    "    product = -np.sin(alpha)*(N - 2)*np.array(X_ar_mean)\n",
    "    cluster = -np.cos(alpha)*(4*np.array(K_boundary_ar_mean) + (N - 4)*np.array(K_bulk_ar_mean))\n",
    "    return product + cluster\n",
    "\n",
    "def E_err(alpha, N, X_ar_std, K_boundary_ar_std, K_bulk_ar_std):\n",
    "    \"\"\"\n",
    "    \"\"\"\n",
    "    product_err = -np.sin(alpha)*(N - 2)*np.array(X_ar_std)\n",
    "    cluster_err = -np.cos(alpha)*(np.sqrt((4*np.array(K_boundary_ar_std))**2 + ((N - 4)*np.array(K_bulk_ar_std))**2))\n",
    "    return np.sqrt(product_err**2 + cluster_err**2)\n",
    "\n",
    "def E_ideal(alpha, N):\n",
    "    \"\"\"\n",
    "    Give the energy expectation as a function of alpha (intepolation parameter), N (length of chain)\n",
    "    \"\"\"\n",
    "    product = -np.sin(alpha)*(N - 2)*X(theta_ar_smooth)\n",
    "    cluster = -np.cos(alpha)*(4*Kbound(theta_ar_smooth) + (N - 4)*Kbulk(theta_ar_smooth))\n",
    "    return product + cluster\n",
    "\n",
    "def thetamin_and_error_estimate(alpha, N, theta_ar, X_ar_mean, K_boundary_ar_mean, K_bulk_ar_mean, X_ar_std, K_boundary_ar_std, K_bulk_ar_std):\n",
    "    E_ar = E(alpha, N, X_ar_mean, K_boundary_ar_mean, K_bulk_ar_mean)\n",
    "    E_err_ar = E_err(alpha, N, X_ar_std, K_boundary_ar_std, K_bulk_ar_std)\n",
    "    Emin = np.min(E_ar)\n",
    "    thetamin = theta_ar[np.argmin(E_ar)]\n",
    "    diff_ar = E_ar - E_err_ar\n",
    "    indices_below_Emin = []\n",
    "    for i in range(len(theta_ar)):\n",
    "        if diff_ar[i] < Emin:\n",
    "            indices_below_Emin.append(i)\n",
    "    theta_err = (theta_ar[indices_below_Emin[-1]] - theta_ar[indices_below_Emin[0]])/2\n",
    "    return thetamin, theta_err"
   ]
  },
  {
   "cell_type": "code",
   "execution_count": 26,
   "id": "a30167f4",
   "metadata": {},
   "outputs": [],
   "source": [
    "alphas_smooth=np.linspace(0, np.pi/2, 1000)\n",
    "alphas =np.linspace(0, np.pi/2, 50)\n",
    "alphas_1 = np.linspace(0, np.arctan(2), 40000)\n",
    "alphas_2 = np.linspace(np.arctan(2), np.pi/2, 6000)"
   ]
  },
  {
   "cell_type": "code",
   "execution_count": 27,
   "id": "00a4d92d",
   "metadata": {},
   "outputs": [],
   "source": [
    "thetamins_9 = []\n",
    "thetamins_9_err = []\n",
    "thetamins_ideal_9 = []\n",
    "thetamins_5 = []\n",
    "thetamins_5_err = []\n",
    "thetamins_ideal_5 = []\n",
    "for alpha in alphas:\n",
    "    thetamin, theta_err = thetamin_and_error_estimate(alpha, 9, theta_ar, X_ar_mean, K_boundary_ar_mean, K_bulk_ar_mean, X_ar_std, K_boundary_ar_std, K_bulk_ar_std)\n",
    "    thetamins_9.append(thetamin)\n",
    "    thetamins_9_err.append(theta_err)\n",
    "    thetamin, theta_err = thetamin_and_error_estimate(alpha, 5, theta_ar, X_ar_mean, K_boundary_ar_mean, K_bulk_ar_mean, X_ar_std, K_boundary_ar_std, K_bulk_ar_std)\n",
    "    thetamins_5.append(thetamin)\n",
    "    thetamins_5_err.append(theta_err)\n",
    "for alpha in alphas_smooth:\n",
    "    thetamins_ideal_9.append(theta_ar_smooth[np.argmin(E_ideal(alpha, 9))])\n",
    "    thetamins_ideal_5.append(theta_ar_smooth[np.argmin(E_ideal(alpha, 5))])"
   ]
  },
  {
   "cell_type": "code",
   "execution_count": 28,
   "id": "0b250d40",
   "metadata": {},
   "outputs": [
    {
     "name": "stderr",
     "output_type": "stream",
     "text": [
      "/var/folders/j1/1hxsj1cs7jl3mgs2v23v3wx00000gn/T/ipykernel_7743/942225913.py:1: RuntimeWarning: invalid value encountered in arcsin\n",
      "  plt.plot(alphas_1, 0.5*np.arcsin(np.tan(alphas_1)/2), \"b-\", label=r\"Theory, $N=\\infty$\")\n"
     ]
    },
    {
     "data": {
      "image/png": "[encoded data removed]",
      "text/plain": [
       "<Figure size 640x480 with 1 Axes>"
      ]
     },
     "metadata": {},
     "output_type": "display_data"
    }
   ],
   "source": [
    "plt.plot(alphas_1, 0.5*np.arcsin(np.tan(alphas_1)/2), \"b-\", label=r\"Theory, $N=\\infty$\")\n",
    "plt.plot(alphas_2, np.pi/4*np.ones(len(alphas_2)), \"b-\")\n",
    "# plt.plot(alphas_smooth, thetamins_ideal_9, \"r-\",label=r\"Theory, $N=9$\")\n",
    "# plt.errorbar(alphas, thetamins_9, yerr=thetamins_9_err, fmt='.', color='r', label=r\"Experiment, $N=9$\", markersize=5)\n",
    "plt.plot(alphas_smooth, thetamins_ideal_5, \"r-\",label=r\"Theory, $N=5$\")\n",
    "plt.errorbar(alphas, thetamins_5, yerr=thetamins_5_err, fmt='.', color='r', label=r\"Experiment, $N=5$\", markersize=5)\n",
    "plt.legend(fontsize=10, loc=\"best\")\n",
    "plt.title(r\"Optimal VQE parameter $\\theta_{\\text{min}}$ vs. $\\alpha$\", size=12)\n",
    "plt.xlabel(r\"Interpolation $\\alpha$\", size=11)\n",
    "plt.ylabel(r\"$\\theta_{\\text{min}} = \\text{argmin}\\langle \\psi(\\theta) \\vert H(\\alpha) \\vert \\psi(\\theta) \\rangle$\", size=11)\n",
    "plt.savefig(\"figures/VQE_variationalparameter.pdf\")\n",
    "plt.show()"
   ]
  },
  {
   "cell_type": "code",
   "execution_count": 9,
   "id": "4e87bf1a",
   "metadata": {},
   "outputs": [],
   "source": [
    "alphas_exp = np.linspace(0, np.pi/2, 9)\n",
    "thetamins_5_exp = []\n",
    "thetamins_5_exp_err = []\n",
    "\n",
    "for alpha in alphas_exp:\n",
    "    thetamin, theta_err = thetamin_and_error_estimate(alpha, 5, theta_ar, X_ar_mean, K_boundary_ar_mean, K_bulk_ar_mean, X_ar_std, K_boundary_ar_std, K_bulk_ar_std)\n",
    "    thetamins_5_exp.append(thetamin)\n",
    "    thetamins_5_exp_err.append(theta_err)"
   ]
  },
  {
   "cell_type": "code",
   "execution_count": 10,
   "id": "770dd526",
   "metadata": {},
   "outputs": [],
   "source": [
    "def SOP_and_error_estimate(alpha, N, X_ar_mean, K_boundary_ar_mean, K_bulk_ar_mean, K_boundary_ar_std):\n",
    "    E_ar = E(alpha, N, X_ar_mean, K_boundary_ar_mean, K_bulk_ar_mean)\n",
    "    E_err_ar = E_err(alpha, N, X_ar_std, K_boundary_ar_std, K_bulk_ar_std)\n",
    "    Emin = np.min(E_ar)\n",
    "    diff_ar = E_ar - E_err_ar\n",
    "    indices_below_Emin = []\n",
    "    for i in range(len(theta_ar)):\n",
    "        if diff_ar[i] < Emin:\n",
    "            indices_below_Emin.append(i)\n",
    "    SOP_val = K_boundary_ar_mean[np.argmin(E_ar)]\n",
    "\n",
    "    SOP_val_max = K_boundary_ar_mean[indices_below_Emin[-1]]\n",
    "    SOP_val_min = K_boundary_ar_mean[indices_below_Emin[0]]\n",
    "\n",
    "    SOP_err_minimization = (SOP_val_max - SOP_val_min) / 2\n",
    "    SOP_err_statistical = K_boundary_ar_std[np.argmin(E_ar)]\n",
    "    return SOP_val, np.sqrt(SOP_err_minimization**2 + SOP_err_statistical**2)\n",
    "\n",
    "def ideal_SOP(alpha, N):\n",
    "    thetamin = theta_ar_smooth[np.argmin(E_ideal(alpha, N))]\n",
    "    return Kbound(thetamin)"
   ]
  },
  {
   "cell_type": "code",
   "execution_count": 11,
   "id": "e4561435",
   "metadata": {},
   "outputs": [],
   "source": [
    "SOP_vals_exp = []\n",
    "SOP_vals_exp_err = []\n",
    "SOP_vals_ideal = []\n",
    "for alpha in alphas_exp:\n",
    "    SOP_val, SOP_err = SOP_and_error_estimate(alpha, 5, X_ar_mean, K_boundary_ar_mean, K_bulk_ar_mean, K_boundary_ar_std)\n",
    "    SOP_vals_exp.append(SOP_val)\n",
    "    SOP_vals_exp_err.append(SOP_err)\n",
    "    SOP_vals_ideal.append(ideal_SOP(alpha, 5))"
   ]
  },
  {
   "cell_type": "code",
   "execution_count": 12,
   "id": "dea10933",
   "metadata": {},
   "outputs": [],
   "source": [
    "SOP_vals_ideal = []\n",
    "for alpha in alphas_smooth:\n",
    "    SOP_vals_ideal.append(ideal_SOP(alpha, 5))"
   ]
  },
  {
   "cell_type": "code",
   "execution_count": 13,
   "id": "040890e8",
   "metadata": {},
   "outputs": [],
   "source": [
    "# Thetas, SOPs for COP=SOP experiments\n",
    "np.savez('processed_data/VQE_N5_thetamins_and_SOPs.npz', alphas_exp=alphas_exp, thetamins_5_exp=thetamins_5_exp, thetamins_5_exp_err=thetamins_5_exp_err, SOP_vals_exp=SOP_vals_exp, SOP_vals_exp_err=SOP_vals_exp_err, alphas_smooth=alphas_smooth, SOP_vals_ideal=SOP_vals_ideal)"
   ]
  },
  {
   "cell_type": "code",
   "execution_count": 14,
   "id": "181bee3e",
   "metadata": {},
   "outputs": [],
   "source": [
    "# Theta for divide-and-conquer experiments\n",
    "alpha = np.pi/3\n",
    "thetamin, theta_err = thetamin_and_error_estimate(alpha, 9, theta_ar, X_ar_mean, K_boundary_ar_mean, K_bulk_ar_mean, X_ar_std, K_boundary_ar_std, K_bulk_ar_std)\n",
    "SOP_val, SOP_err = SOP_and_error_estimate(alpha, 9, X_ar_mean, K_boundary_ar_mean, K_bulk_ar_mean, K_boundary_ar_std)\n",
    "SOP_val_ideal = ideal_SOP(alpha, 9)"
   ]
  },
  {
   "cell_type": "code",
   "execution_count": 15,
   "id": "52e7feb1",
   "metadata": {},
   "outputs": [],
   "source": [
    "np.savez('processed_data/VQE_N9_thetamin_and_SOP.npz', alpha=np.array([alpha]), thetamin_9_exp=np.array([thetamin]), theta_9_exp_err=np.array([theta_err]), SOP_val_exp=np.array([SOP_val]), SOP_val_exp_err=np.array([SOP_err]), SOP_val_ideal=np.array([SOP_val_ideal]))"
   ]
  }
 ],
 "metadata": {
  "kernelspec": {
   "display_name": "Python 3",
   "language": "python",
   "name": "python3"
  },
  "language_info": {
   "codemirror_mode": {
    "name": "ipython",
    "version": 3
   },
   "file_extension": ".py",
   "mimetype": "text/x-python",
   "name": "python",
   "nbconvert_exporter": "python",
   "pygments_lexer": "ipython3",
   "version": "3.11.8"
  }
 },
 "nbformat": 4,
 "nbformat_minor": 5
}
